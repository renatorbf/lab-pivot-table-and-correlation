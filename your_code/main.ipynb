{
  "cells": [
    {
      "cell_type": "markdown",
      "metadata": {
        "id": "9P8PE-Qi1H8P"
      },
      "source": [
        "# Before you start :\n",
        "   - These exercises are related to the Pivot table and correlation lessons.\n",
        "   - Keep in mind that you need to use some of the functions you learned in the previous lessons.\n",
        "   - All datasets are provided in the `your-code` folder of this lab.\n",
        "   - Elaborate your codes and outputs as much as you can.\n",
        "   - Try your best to answer the questions and complete the tasks and most importantly enjoy the process!!!"
      ]
    },
    {
      "cell_type": "markdown",
      "metadata": {
        "id": "YcGXo2ws1H8Q"
      },
      "source": [
        "#### Import all the libraries that are necessary."
      ]
    },
    {
      "cell_type": "code",
      "execution_count": 1,
      "metadata": {
        "id": "gUZ6uYyk1H8Q"
      },
      "outputs": [],
      "source": [
        "# your answer here\n",
        "\n",
        "import pandas as pd"
      ]
    },
    {
      "cell_type": "markdown",
      "metadata": {
        "id": "e_bpcurR1H8R"
      },
      "source": [
        "# Challenge 1"
      ]
    },
    {
      "cell_type": "markdown",
      "metadata": {
        "id": "a79nU0gc1H8R"
      },
      "source": [
        "#### Open the ` Employee.csv` file and name your dataset `employee`."
      ]
    },
    {
      "cell_type": "code",
      "execution_count": 4,
      "metadata": {
        "id": "Tjz9ZHHD1H8R",
        "outputId": "ee2012e9-d371-4c1f-c2d6-4b17ff12ae86",
        "colab": {
          "base_uri": "https://localhost:8080/",
          "height": 206
        }
      },
      "outputs": [
        {
          "output_type": "execute_result",
          "data": {
            "text/html": [
              "\n",
              "  <div id=\"df-6d20b240-87a4-4e99-8d40-23daf68a208a\">\n",
              "    <div class=\"colab-df-container\">\n",
              "      <div>\n",
              "<style scoped>\n",
              "    .dataframe tbody tr th:only-of-type {\n",
              "        vertical-align: middle;\n",
              "    }\n",
              "\n",
              "    .dataframe tbody tr th {\n",
              "        vertical-align: top;\n",
              "    }\n",
              "\n",
              "    .dataframe thead th {\n",
              "        text-align: right;\n",
              "    }\n",
              "</style>\n",
              "<table border=\"1\" class=\"dataframe\">\n",
              "  <thead>\n",
              "    <tr style=\"text-align: right;\">\n",
              "      <th></th>\n",
              "      <th>Name</th>\n",
              "      <th>Department</th>\n",
              "      <th>Education</th>\n",
              "      <th>Gender</th>\n",
              "      <th>Title</th>\n",
              "      <th>Years</th>\n",
              "      <th>Salary</th>\n",
              "    </tr>\n",
              "  </thead>\n",
              "  <tbody>\n",
              "    <tr>\n",
              "      <th>0</th>\n",
              "      <td>Jose</td>\n",
              "      <td>IT</td>\n",
              "      <td>Bachelor</td>\n",
              "      <td>M</td>\n",
              "      <td>analyst</td>\n",
              "      <td>1</td>\n",
              "      <td>35</td>\n",
              "    </tr>\n",
              "    <tr>\n",
              "      <th>1</th>\n",
              "      <td>Maria</td>\n",
              "      <td>IT</td>\n",
              "      <td>Master</td>\n",
              "      <td>F</td>\n",
              "      <td>analyst</td>\n",
              "      <td>2</td>\n",
              "      <td>30</td>\n",
              "    </tr>\n",
              "    <tr>\n",
              "      <th>2</th>\n",
              "      <td>David</td>\n",
              "      <td>HR</td>\n",
              "      <td>Master</td>\n",
              "      <td>M</td>\n",
              "      <td>analyst</td>\n",
              "      <td>2</td>\n",
              "      <td>30</td>\n",
              "    </tr>\n",
              "    <tr>\n",
              "      <th>3</th>\n",
              "      <td>Sonia</td>\n",
              "      <td>HR</td>\n",
              "      <td>Bachelor</td>\n",
              "      <td>F</td>\n",
              "      <td>analyst</td>\n",
              "      <td>4</td>\n",
              "      <td>35</td>\n",
              "    </tr>\n",
              "    <tr>\n",
              "      <th>4</th>\n",
              "      <td>Samuel</td>\n",
              "      <td>Sales</td>\n",
              "      <td>Master</td>\n",
              "      <td>M</td>\n",
              "      <td>associate</td>\n",
              "      <td>3</td>\n",
              "      <td>55</td>\n",
              "    </tr>\n",
              "  </tbody>\n",
              "</table>\n",
              "</div>\n",
              "      <button class=\"colab-df-convert\" onclick=\"convertToInteractive('df-6d20b240-87a4-4e99-8d40-23daf68a208a')\"\n",
              "              title=\"Convert this dataframe to an interactive table.\"\n",
              "              style=\"display:none;\">\n",
              "        \n",
              "  <svg xmlns=\"http://www.w3.org/2000/svg\" height=\"24px\"viewBox=\"0 0 24 24\"\n",
              "       width=\"24px\">\n",
              "    <path d=\"M0 0h24v24H0V0z\" fill=\"none\"/>\n",
              "    <path d=\"M18.56 5.44l.94 2.06.94-2.06 2.06-.94-2.06-.94-.94-2.06-.94 2.06-2.06.94zm-11 1L8.5 8.5l.94-2.06 2.06-.94-2.06-.94L8.5 2.5l-.94 2.06-2.06.94zm10 10l.94 2.06.94-2.06 2.06-.94-2.06-.94-.94-2.06-.94 2.06-2.06.94z\"/><path d=\"M17.41 7.96l-1.37-1.37c-.4-.4-.92-.59-1.43-.59-.52 0-1.04.2-1.43.59L10.3 9.45l-7.72 7.72c-.78.78-.78 2.05 0 2.83L4 21.41c.39.39.9.59 1.41.59.51 0 1.02-.2 1.41-.59l7.78-7.78 2.81-2.81c.8-.78.8-2.07 0-2.86zM5.41 20L4 18.59l7.72-7.72 1.47 1.35L5.41 20z\"/>\n",
              "  </svg>\n",
              "      </button>\n",
              "      \n",
              "  <style>\n",
              "    .colab-df-container {\n",
              "      display:flex;\n",
              "      flex-wrap:wrap;\n",
              "      gap: 12px;\n",
              "    }\n",
              "\n",
              "    .colab-df-convert {\n",
              "      background-color: #E8F0FE;\n",
              "      border: none;\n",
              "      border-radius: 50%;\n",
              "      cursor: pointer;\n",
              "      display: none;\n",
              "      fill: #1967D2;\n",
              "      height: 32px;\n",
              "      padding: 0 0 0 0;\n",
              "      width: 32px;\n",
              "    }\n",
              "\n",
              "    .colab-df-convert:hover {\n",
              "      background-color: #E2EBFA;\n",
              "      box-shadow: 0px 1px 2px rgba(60, 64, 67, 0.3), 0px 1px 3px 1px rgba(60, 64, 67, 0.15);\n",
              "      fill: #174EA6;\n",
              "    }\n",
              "\n",
              "    [theme=dark] .colab-df-convert {\n",
              "      background-color: #3B4455;\n",
              "      fill: #D2E3FC;\n",
              "    }\n",
              "\n",
              "    [theme=dark] .colab-df-convert:hover {\n",
              "      background-color: #434B5C;\n",
              "      box-shadow: 0px 1px 3px 1px rgba(0, 0, 0, 0.15);\n",
              "      filter: drop-shadow(0px 1px 2px rgba(0, 0, 0, 0.3));\n",
              "      fill: #FFFFFF;\n",
              "    }\n",
              "  </style>\n",
              "\n",
              "      <script>\n",
              "        const buttonEl =\n",
              "          document.querySelector('#df-6d20b240-87a4-4e99-8d40-23daf68a208a button.colab-df-convert');\n",
              "        buttonEl.style.display =\n",
              "          google.colab.kernel.accessAllowed ? 'block' : 'none';\n",
              "\n",
              "        async function convertToInteractive(key) {\n",
              "          const element = document.querySelector('#df-6d20b240-87a4-4e99-8d40-23daf68a208a');\n",
              "          const dataTable =\n",
              "            await google.colab.kernel.invokeFunction('convertToInteractive',\n",
              "                                                     [key], {});\n",
              "          if (!dataTable) return;\n",
              "\n",
              "          const docLinkHtml = 'Like what you see? Visit the ' +\n",
              "            '<a target=\"_blank\" href=https://colab.research.google.com/notebooks/data_table.ipynb>data table notebook</a>'\n",
              "            + ' to learn more about interactive tables.';\n",
              "          element.innerHTML = '';\n",
              "          dataTable['output_type'] = 'display_data';\n",
              "          await google.colab.output.renderOutput(dataTable, element);\n",
              "          const docLink = document.createElement('div');\n",
              "          docLink.innerHTML = docLinkHtml;\n",
              "          element.appendChild(docLink);\n",
              "        }\n",
              "      </script>\n",
              "    </div>\n",
              "  </div>\n",
              "  "
            ],
            "text/plain": [
              "     Name Department Education Gender      Title  Years  Salary\n",
              "0    Jose         IT  Bachelor      M    analyst      1      35\n",
              "1   Maria         IT    Master      F    analyst      2      30\n",
              "2   David         HR    Master      M    analyst      2      30\n",
              "3   Sonia         HR  Bachelor      F    analyst      4      35\n",
              "4  Samuel      Sales    Master      M  associate      3      55"
            ]
          },
          "metadata": {},
          "execution_count": 4
        }
      ],
      "source": [
        "# your answer here\n",
        "employee = pd.read_csv('https://raw.githubusercontent.com/renatorbf/lab-pivot-table-and-correlation/master/your_code/data/Employee.csv')\n",
        "employee.head()"
      ]
    },
    {
      "cell_type": "markdown",
      "metadata": {
        "id": "rYAMOVjG1H8R"
      },
      "source": [
        "#### What's the mean salary by department?\n",
        "Hint : There are 2 ways to do it - one way is with groupby and the other way is with pivot tables. Do it both ways. \n"
      ]
    },
    {
      "cell_type": "code",
      "execution_count": 5,
      "metadata": {
        "id": "iaXQSRsO1H8R",
        "outputId": "661b1cf0-6659-4d2c-9cc8-5cf52862e89c",
        "colab": {
          "base_uri": "https://localhost:8080/",
          "height": 174
        }
      },
      "outputs": [
        {
          "output_type": "execute_result",
          "data": {
            "text/html": [
              "\n",
              "  <div id=\"df-79f70d77-9921-4600-9b50-a79179642ec8\">\n",
              "    <div class=\"colab-df-container\">\n",
              "      <div>\n",
              "<style scoped>\n",
              "    .dataframe tbody tr th:only-of-type {\n",
              "        vertical-align: middle;\n",
              "    }\n",
              "\n",
              "    .dataframe tbody tr th {\n",
              "        vertical-align: top;\n",
              "    }\n",
              "\n",
              "    .dataframe thead th {\n",
              "        text-align: right;\n",
              "    }\n",
              "</style>\n",
              "<table border=\"1\" class=\"dataframe\">\n",
              "  <thead>\n",
              "    <tr style=\"text-align: right;\">\n",
              "      <th></th>\n",
              "      <th>Salary</th>\n",
              "    </tr>\n",
              "    <tr>\n",
              "      <th>Department</th>\n",
              "      <th></th>\n",
              "    </tr>\n",
              "  </thead>\n",
              "  <tbody>\n",
              "    <tr>\n",
              "      <th>HR</th>\n",
              "      <td>45.00</td>\n",
              "    </tr>\n",
              "    <tr>\n",
              "      <th>IT</th>\n",
              "      <td>48.75</td>\n",
              "    </tr>\n",
              "    <tr>\n",
              "      <th>Sales</th>\n",
              "      <td>55.00</td>\n",
              "    </tr>\n",
              "  </tbody>\n",
              "</table>\n",
              "</div>\n",
              "      <button class=\"colab-df-convert\" onclick=\"convertToInteractive('df-79f70d77-9921-4600-9b50-a79179642ec8')\"\n",
              "              title=\"Convert this dataframe to an interactive table.\"\n",
              "              style=\"display:none;\">\n",
              "        \n",
              "  <svg xmlns=\"http://www.w3.org/2000/svg\" height=\"24px\"viewBox=\"0 0 24 24\"\n",
              "       width=\"24px\">\n",
              "    <path d=\"M0 0h24v24H0V0z\" fill=\"none\"/>\n",
              "    <path d=\"M18.56 5.44l.94 2.06.94-2.06 2.06-.94-2.06-.94-.94-2.06-.94 2.06-2.06.94zm-11 1L8.5 8.5l.94-2.06 2.06-.94-2.06-.94L8.5 2.5l-.94 2.06-2.06.94zm10 10l.94 2.06.94-2.06 2.06-.94-2.06-.94-.94-2.06-.94 2.06-2.06.94z\"/><path d=\"M17.41 7.96l-1.37-1.37c-.4-.4-.92-.59-1.43-.59-.52 0-1.04.2-1.43.59L10.3 9.45l-7.72 7.72c-.78.78-.78 2.05 0 2.83L4 21.41c.39.39.9.59 1.41.59.51 0 1.02-.2 1.41-.59l7.78-7.78 2.81-2.81c.8-.78.8-2.07 0-2.86zM5.41 20L4 18.59l7.72-7.72 1.47 1.35L5.41 20z\"/>\n",
              "  </svg>\n",
              "      </button>\n",
              "      \n",
              "  <style>\n",
              "    .colab-df-container {\n",
              "      display:flex;\n",
              "      flex-wrap:wrap;\n",
              "      gap: 12px;\n",
              "    }\n",
              "\n",
              "    .colab-df-convert {\n",
              "      background-color: #E8F0FE;\n",
              "      border: none;\n",
              "      border-radius: 50%;\n",
              "      cursor: pointer;\n",
              "      display: none;\n",
              "      fill: #1967D2;\n",
              "      height: 32px;\n",
              "      padding: 0 0 0 0;\n",
              "      width: 32px;\n",
              "    }\n",
              "\n",
              "    .colab-df-convert:hover {\n",
              "      background-color: #E2EBFA;\n",
              "      box-shadow: 0px 1px 2px rgba(60, 64, 67, 0.3), 0px 1px 3px 1px rgba(60, 64, 67, 0.15);\n",
              "      fill: #174EA6;\n",
              "    }\n",
              "\n",
              "    [theme=dark] .colab-df-convert {\n",
              "      background-color: #3B4455;\n",
              "      fill: #D2E3FC;\n",
              "    }\n",
              "\n",
              "    [theme=dark] .colab-df-convert:hover {\n",
              "      background-color: #434B5C;\n",
              "      box-shadow: 0px 1px 3px 1px rgba(0, 0, 0, 0.15);\n",
              "      filter: drop-shadow(0px 1px 2px rgba(0, 0, 0, 0.3));\n",
              "      fill: #FFFFFF;\n",
              "    }\n",
              "  </style>\n",
              "\n",
              "      <script>\n",
              "        const buttonEl =\n",
              "          document.querySelector('#df-79f70d77-9921-4600-9b50-a79179642ec8 button.colab-df-convert');\n",
              "        buttonEl.style.display =\n",
              "          google.colab.kernel.accessAllowed ? 'block' : 'none';\n",
              "\n",
              "        async function convertToInteractive(key) {\n",
              "          const element = document.querySelector('#df-79f70d77-9921-4600-9b50-a79179642ec8');\n",
              "          const dataTable =\n",
              "            await google.colab.kernel.invokeFunction('convertToInteractive',\n",
              "                                                     [key], {});\n",
              "          if (!dataTable) return;\n",
              "\n",
              "          const docLinkHtml = 'Like what you see? Visit the ' +\n",
              "            '<a target=\"_blank\" href=https://colab.research.google.com/notebooks/data_table.ipynb>data table notebook</a>'\n",
              "            + ' to learn more about interactive tables.';\n",
              "          element.innerHTML = '';\n",
              "          dataTable['output_type'] = 'display_data';\n",
              "          await google.colab.output.renderOutput(dataTable, element);\n",
              "          const docLink = document.createElement('div');\n",
              "          docLink.innerHTML = docLinkHtml;\n",
              "          element.appendChild(docLink);\n",
              "        }\n",
              "      </script>\n",
              "    </div>\n",
              "  </div>\n",
              "  "
            ],
            "text/plain": [
              "            Salary\n",
              "Department        \n",
              "HR           45.00\n",
              "IT           48.75\n",
              "Sales        55.00"
            ]
          },
          "metadata": {},
          "execution_count": 5
        }
      ],
      "source": [
        "# Method 1\n",
        "# your answer here\n",
        "employee.groupby(['Department']).agg({'Salary':'mean'})"
      ]
    },
    {
      "cell_type": "code",
      "execution_count": null,
      "metadata": {
        "id": "dREiv8GD1H8S"
      },
      "outputs": [],
      "source": [
        "# Method 2\n",
        "# your answer here\n"
      ]
    },
    {
      "cell_type": "markdown",
      "metadata": {
        "id": "1pNkKkdF1H8S"
      },
      "source": [
        "#### We want now to group the data by more than one column. Use Pandas pivot table function to select the mean salary by department and title."
      ]
    },
    {
      "cell_type": "code",
      "execution_count": null,
      "metadata": {
        "id": "858BvI171H8S"
      },
      "outputs": [],
      "source": [
        "# your answer here\n"
      ]
    },
    {
      "cell_type": "markdown",
      "metadata": {
        "id": "pk-1FAFt1H8S"
      },
      "source": [
        "#### We want to display the number of years of work experience and the salary for each Title. Add Years as a column in your pivot table.\n",
        "*Hint: Use Pandas doc(see References in README.md) to explore the pivot_table() arguments*"
      ]
    },
    {
      "cell_type": "code",
      "execution_count": null,
      "metadata": {
        "id": "4uw51mG11H8T"
      },
      "outputs": [],
      "source": [
        "# your answer here\n"
      ]
    },
    {
      "cell_type": "markdown",
      "metadata": {
        "id": "SFS24j0d1H8T"
      },
      "source": [
        "#### We want to know the information about the mean salary and number of employees in each department and for each job title."
      ]
    },
    {
      "cell_type": "code",
      "execution_count": null,
      "metadata": {
        "id": "_Ezh7vuN1H8T"
      },
      "outputs": [],
      "source": [
        "# your answer here\n"
      ]
    },
    {
      "cell_type": "markdown",
      "metadata": {
        "id": "5UPAXWle1H8T"
      },
      "source": [
        "#### We want to know for each department and for each job title the Salary's median, minimum, maximum and standard deviation. Comment your results."
      ]
    },
    {
      "cell_type": "code",
      "execution_count": null,
      "metadata": {
        "id": "5NAN63US1H8T"
      },
      "outputs": [],
      "source": [
        "# your answer here\n"
      ]
    },
    {
      "cell_type": "markdown",
      "metadata": {
        "id": "cHZa-Ktn1H8T"
      },
      "source": [
        "#### Based on your comments, fill the missing values with an appropriate value."
      ]
    },
    {
      "cell_type": "code",
      "execution_count": null,
      "metadata": {
        "id": "sl0IcCgc1H8U"
      },
      "outputs": [],
      "source": [
        "# your answer here\n"
      ]
    },
    {
      "cell_type": "markdown",
      "metadata": {
        "id": "3aZAs1py1H8U"
      },
      "source": [
        "#### The stake holders want to know for each department the number of employees and how much money is spend on salaries. Could you provide that information? "
      ]
    },
    {
      "cell_type": "code",
      "execution_count": null,
      "metadata": {
        "id": "lOI_SQhw1H8U"
      },
      "outputs": [],
      "source": [
        "# your answer here\n"
      ]
    },
    {
      "cell_type": "markdown",
      "metadata": {
        "id": "n0DUo-Ig1H8U"
      },
      "source": [
        "#### For each Department and Title, we want to know the the total years of work experience and the mean salary."
      ]
    },
    {
      "cell_type": "code",
      "execution_count": null,
      "metadata": {
        "id": "aqMrbcY-1H8U"
      },
      "outputs": [],
      "source": [
        "# your answer here\n"
      ]
    },
    {
      "cell_type": "markdown",
      "metadata": {
        "id": "Kw0O1j9I1H8V"
      },
      "source": [
        "### Bonus\n",
        "\n",
        "#### We now want to compute the mean salary after removing the maxima for each Department. Create the appropriate pivot table.\n",
        "\n",
        "Hint: Write a custom function."
      ]
    },
    {
      "cell_type": "code",
      "execution_count": null,
      "metadata": {
        "id": "zlIJE0vl1H8V"
      },
      "outputs": [],
      "source": [
        "# your answer here\n"
      ]
    },
    {
      "cell_type": "markdown",
      "metadata": {
        "id": "xZ0UmZV51H8V"
      },
      "source": [
        "# Challenge 2"
      ]
    },
    {
      "cell_type": "markdown",
      "metadata": {
        "id": "1RiNqzLr1H8V"
      },
      "source": [
        "#### Open the ` Fitbit.csv` file and name your dataset `fitbit`."
      ]
    },
    {
      "cell_type": "code",
      "execution_count": 9,
      "metadata": {
        "scrolled": true,
        "id": "Zswq6qaC1H8V"
      },
      "outputs": [],
      "source": [
        "# your answer here\n",
        "fitbit = pd.read_csv('https://raw.githubusercontent.com/renatorbf/lab-pivot-table-and-correlation/master/your_code/data/Fitbit.csv')"
      ]
    },
    {
      "cell_type": "markdown",
      "metadata": {
        "id": "eZmiqlqh1H8V"
      },
      "source": [
        "#### Explore you dataset in terms of data types and descriptive statistics.\n",
        "Hint: Use Pandas functions from previous lectures."
      ]
    },
    {
      "cell_type": "code",
      "execution_count": 10,
      "metadata": {
        "id": "t71Aw2uB1H8V",
        "outputId": "c5031a43-83cf-4160-8e40-4dfdf9b79754",
        "colab": {
          "base_uri": "https://localhost:8080/"
        }
      },
      "outputs": [
        {
          "output_type": "execute_result",
          "data": {
            "text/plain": [
              "Date                       object\n",
              "Calorie burned              int64\n",
              "Steps                       int64\n",
              "Distance                  float64\n",
              "Floors                      int64\n",
              "Minutes Sedentary         float64\n",
              "Minutes Lightly Active      int64\n",
              "Minutes Fairly Active       int64\n",
              "Minutes Very Active         int64\n",
              "Activity Calories           int64\n",
              "MinutesOfSleep              int64\n",
              "MinutesOfBeingAwake         int64\n",
              "NumberOfAwakings            int64\n",
              "LengthOfRestInMinutes       int64\n",
              "dtype: object"
            ]
          },
          "metadata": {},
          "execution_count": 10
        }
      ],
      "source": [
        "# your answer here\n",
        "fitbit.dtypes"
      ]
    },
    {
      "cell_type": "code",
      "execution_count": 14,
      "metadata": {
        "id": "IsW49wRB1H8W",
        "outputId": "77890998-3edf-4b2e-a4ea-66f95e674518",
        "colab": {
          "base_uri": "https://localhost:8080/",
          "height": 399
        }
      },
      "outputs": [
        {
          "output_type": "execute_result",
          "data": {
            "text/html": [
              "\n",
              "  <div id=\"df-288bf352-b31a-4ec4-8f28-37cd047dcd90\">\n",
              "    <div class=\"colab-df-container\">\n",
              "      <div>\n",
              "<style scoped>\n",
              "    .dataframe tbody tr th:only-of-type {\n",
              "        vertical-align: middle;\n",
              "    }\n",
              "\n",
              "    .dataframe tbody tr th {\n",
              "        vertical-align: top;\n",
              "    }\n",
              "\n",
              "    .dataframe thead th {\n",
              "        text-align: right;\n",
              "    }\n",
              "</style>\n",
              "<table border=\"1\" class=\"dataframe\">\n",
              "  <thead>\n",
              "    <tr style=\"text-align: right;\">\n",
              "      <th></th>\n",
              "      <th>Calorie burned</th>\n",
              "      <th>Steps</th>\n",
              "      <th>Distance</th>\n",
              "      <th>Floors</th>\n",
              "      <th>Minutes Sedentary</th>\n",
              "      <th>Minutes Lightly Active</th>\n",
              "      <th>Minutes Fairly Active</th>\n",
              "      <th>Minutes Very Active</th>\n",
              "      <th>Activity Calories</th>\n",
              "      <th>MinutesOfSleep</th>\n",
              "      <th>MinutesOfBeingAwake</th>\n",
              "      <th>NumberOfAwakings</th>\n",
              "      <th>LengthOfRestInMinutes</th>\n",
              "    </tr>\n",
              "  </thead>\n",
              "  <tbody>\n",
              "    <tr>\n",
              "      <th>count</th>\n",
              "      <td>367.000000</td>\n",
              "      <td>367.000000</td>\n",
              "      <td>367.000000</td>\n",
              "      <td>367.000000</td>\n",
              "      <td>367.000000</td>\n",
              "      <td>367.000000</td>\n",
              "      <td>367.000000</td>\n",
              "      <td>367.000000</td>\n",
              "      <td>367.000000</td>\n",
              "      <td>367.000000</td>\n",
              "      <td>367.000000</td>\n",
              "      <td>367.000000</td>\n",
              "      <td>367.000000</td>\n",
              "    </tr>\n",
              "    <tr>\n",
              "      <th>mean</th>\n",
              "      <td>2741.501362</td>\n",
              "      <td>10121.588556</td>\n",
              "      <td>8.549128</td>\n",
              "      <td>11.724796</td>\n",
              "      <td>563.934482</td>\n",
              "      <td>236.405995</td>\n",
              "      <td>26.163488</td>\n",
              "      <td>35.722071</td>\n",
              "      <td>2044.147139</td>\n",
              "      <td>290.479564</td>\n",
              "      <td>28.008174</td>\n",
              "      <td>16.196185</td>\n",
              "      <td>321.343324</td>\n",
              "    </tr>\n",
              "    <tr>\n",
              "      <th>std</th>\n",
              "      <td>916.307036</td>\n",
              "      <td>5594.836225</td>\n",
              "      <td>3.409881</td>\n",
              "      <td>10.337370</td>\n",
              "      <td>294.793145</td>\n",
              "      <td>86.531376</td>\n",
              "      <td>20.319456</td>\n",
              "      <td>31.006682</td>\n",
              "      <td>2041.267168</td>\n",
              "      <td>154.752328</td>\n",
              "      <td>18.541415</td>\n",
              "      <td>10.757622</td>\n",
              "      <td>170.786726</td>\n",
              "    </tr>\n",
              "    <tr>\n",
              "      <th>min</th>\n",
              "      <td>179.000000</td>\n",
              "      <td>0.000000</td>\n",
              "      <td>0.000000</td>\n",
              "      <td>0.000000</td>\n",
              "      <td>1.002000</td>\n",
              "      <td>0.000000</td>\n",
              "      <td>0.000000</td>\n",
              "      <td>0.000000</td>\n",
              "      <td>0.000000</td>\n",
              "      <td>0.000000</td>\n",
              "      <td>0.000000</td>\n",
              "      <td>0.000000</td>\n",
              "      <td>0.000000</td>\n",
              "    </tr>\n",
              "    <tr>\n",
              "      <th>25%</th>\n",
              "      <td>2698.000000</td>\n",
              "      <td>6730.500000</td>\n",
              "      <td>6.155000</td>\n",
              "      <td>5.000000</td>\n",
              "      <td>520.000000</td>\n",
              "      <td>179.000000</td>\n",
              "      <td>8.000000</td>\n",
              "      <td>10.500000</td>\n",
              "      <td>1218.500000</td>\n",
              "      <td>224.000000</td>\n",
              "      <td>14.000000</td>\n",
              "      <td>7.000000</td>\n",
              "      <td>248.000000</td>\n",
              "    </tr>\n",
              "    <tr>\n",
              "      <th>50%</th>\n",
              "      <td>2974.000000</td>\n",
              "      <td>10413.000000</td>\n",
              "      <td>8.290000</td>\n",
              "      <td>11.000000</td>\n",
              "      <td>663.000000</td>\n",
              "      <td>226.000000</td>\n",
              "      <td>24.000000</td>\n",
              "      <td>29.000000</td>\n",
              "      <td>1553.000000</td>\n",
              "      <td>337.000000</td>\n",
              "      <td>29.000000</td>\n",
              "      <td>16.000000</td>\n",
              "      <td>370.000000</td>\n",
              "    </tr>\n",
              "    <tr>\n",
              "      <th>75%</th>\n",
              "      <td>3233.000000</td>\n",
              "      <td>13916.500000</td>\n",
              "      <td>10.560000</td>\n",
              "      <td>16.000000</td>\n",
              "      <td>756.500000</td>\n",
              "      <td>290.000000</td>\n",
              "      <td>41.500000</td>\n",
              "      <td>54.000000</td>\n",
              "      <td>1927.500000</td>\n",
              "      <td>400.500000</td>\n",
              "      <td>41.500000</td>\n",
              "      <td>24.000000</td>\n",
              "      <td>440.500000</td>\n",
              "    </tr>\n",
              "    <tr>\n",
              "      <th>max</th>\n",
              "      <td>4351.000000</td>\n",
              "      <td>26444.000000</td>\n",
              "      <td>20.450000</td>\n",
              "      <td>101.000000</td>\n",
              "      <td>998.000000</td>\n",
              "      <td>472.000000</td>\n",
              "      <td>101.000000</td>\n",
              "      <td>153.000000</td>\n",
              "      <td>9830.000000</td>\n",
              "      <td>553.000000</td>\n",
              "      <td>78.000000</td>\n",
              "      <td>45.000000</td>\n",
              "      <td>607.000000</td>\n",
              "    </tr>\n",
              "  </tbody>\n",
              "</table>\n",
              "</div>\n",
              "      <button class=\"colab-df-convert\" onclick=\"convertToInteractive('df-288bf352-b31a-4ec4-8f28-37cd047dcd90')\"\n",
              "              title=\"Convert this dataframe to an interactive table.\"\n",
              "              style=\"display:none;\">\n",
              "        \n",
              "  <svg xmlns=\"http://www.w3.org/2000/svg\" height=\"24px\"viewBox=\"0 0 24 24\"\n",
              "       width=\"24px\">\n",
              "    <path d=\"M0 0h24v24H0V0z\" fill=\"none\"/>\n",
              "    <path d=\"M18.56 5.44l.94 2.06.94-2.06 2.06-.94-2.06-.94-.94-2.06-.94 2.06-2.06.94zm-11 1L8.5 8.5l.94-2.06 2.06-.94-2.06-.94L8.5 2.5l-.94 2.06-2.06.94zm10 10l.94 2.06.94-2.06 2.06-.94-2.06-.94-.94-2.06-.94 2.06-2.06.94z\"/><path d=\"M17.41 7.96l-1.37-1.37c-.4-.4-.92-.59-1.43-.59-.52 0-1.04.2-1.43.59L10.3 9.45l-7.72 7.72c-.78.78-.78 2.05 0 2.83L4 21.41c.39.39.9.59 1.41.59.51 0 1.02-.2 1.41-.59l7.78-7.78 2.81-2.81c.8-.78.8-2.07 0-2.86zM5.41 20L4 18.59l7.72-7.72 1.47 1.35L5.41 20z\"/>\n",
              "  </svg>\n",
              "      </button>\n",
              "      \n",
              "  <style>\n",
              "    .colab-df-container {\n",
              "      display:flex;\n",
              "      flex-wrap:wrap;\n",
              "      gap: 12px;\n",
              "    }\n",
              "\n",
              "    .colab-df-convert {\n",
              "      background-color: #E8F0FE;\n",
              "      border: none;\n",
              "      border-radius: 50%;\n",
              "      cursor: pointer;\n",
              "      display: none;\n",
              "      fill: #1967D2;\n",
              "      height: 32px;\n",
              "      padding: 0 0 0 0;\n",
              "      width: 32px;\n",
              "    }\n",
              "\n",
              "    .colab-df-convert:hover {\n",
              "      background-color: #E2EBFA;\n",
              "      box-shadow: 0px 1px 2px rgba(60, 64, 67, 0.3), 0px 1px 3px 1px rgba(60, 64, 67, 0.15);\n",
              "      fill: #174EA6;\n",
              "    }\n",
              "\n",
              "    [theme=dark] .colab-df-convert {\n",
              "      background-color: #3B4455;\n",
              "      fill: #D2E3FC;\n",
              "    }\n",
              "\n",
              "    [theme=dark] .colab-df-convert:hover {\n",
              "      background-color: #434B5C;\n",
              "      box-shadow: 0px 1px 3px 1px rgba(0, 0, 0, 0.15);\n",
              "      filter: drop-shadow(0px 1px 2px rgba(0, 0, 0, 0.3));\n",
              "      fill: #FFFFFF;\n",
              "    }\n",
              "  </style>\n",
              "\n",
              "      <script>\n",
              "        const buttonEl =\n",
              "          document.querySelector('#df-288bf352-b31a-4ec4-8f28-37cd047dcd90 button.colab-df-convert');\n",
              "        buttonEl.style.display =\n",
              "          google.colab.kernel.accessAllowed ? 'block' : 'none';\n",
              "\n",
              "        async function convertToInteractive(key) {\n",
              "          const element = document.querySelector('#df-288bf352-b31a-4ec4-8f28-37cd047dcd90');\n",
              "          const dataTable =\n",
              "            await google.colab.kernel.invokeFunction('convertToInteractive',\n",
              "                                                     [key], {});\n",
              "          if (!dataTable) return;\n",
              "\n",
              "          const docLinkHtml = 'Like what you see? Visit the ' +\n",
              "            '<a target=\"_blank\" href=https://colab.research.google.com/notebooks/data_table.ipynb>data table notebook</a>'\n",
              "            + ' to learn more about interactive tables.';\n",
              "          element.innerHTML = '';\n",
              "          dataTable['output_type'] = 'display_data';\n",
              "          await google.colab.output.renderOutput(dataTable, element);\n",
              "          const docLink = document.createElement('div');\n",
              "          docLink.innerHTML = docLinkHtml;\n",
              "          element.appendChild(docLink);\n",
              "        }\n",
              "      </script>\n",
              "    </div>\n",
              "  </div>\n",
              "  "
            ],
            "text/plain": [
              "       Calorie burned         Steps  ...  NumberOfAwakings  LengthOfRestInMinutes\n",
              "count      367.000000    367.000000  ...        367.000000             367.000000\n",
              "mean      2741.501362  10121.588556  ...         16.196185             321.343324\n",
              "std        916.307036   5594.836225  ...         10.757622             170.786726\n",
              "min        179.000000      0.000000  ...          0.000000               0.000000\n",
              "25%       2698.000000   6730.500000  ...          7.000000             248.000000\n",
              "50%       2974.000000  10413.000000  ...         16.000000             370.000000\n",
              "75%       3233.000000  13916.500000  ...         24.000000             440.500000\n",
              "max       4351.000000  26444.000000  ...         45.000000             607.000000\n",
              "\n",
              "[8 rows x 13 columns]"
            ]
          },
          "metadata": {},
          "execution_count": 14
        }
      ],
      "source": [
        "# your answer here\n",
        "fitbit.describe()"
      ]
    },
    {
      "cell_type": "markdown",
      "metadata": {
        "id": "2Nlt1K1U1H8W"
      },
      "source": [
        "#### You suspect that there must be a linear relationship between the Minutes Very Active and the Steps. Compute the correlation between these variables."
      ]
    },
    {
      "cell_type": "code",
      "execution_count": null,
      "metadata": {
        "id": "gu9it0_o1H8W"
      },
      "outputs": [],
      "source": [
        "# your answer here\n"
      ]
    },
    {
      "cell_type": "markdown",
      "metadata": {
        "id": "OCsRC6nl1H8W"
      },
      "source": [
        "#### Use matplotlib to visually plot Minutes Very active vs Steps. \n",
        "\n",
        "##### Hint : import matplotlib.pyplot as plt (See previous lessons)#####\n",
        "- Use plt.scatter(x=df['col_name_1'], y=df['col_name_2'])"
      ]
    },
    {
      "cell_type": "code",
      "execution_count": null,
      "metadata": {
        "id": "fuRKitkh1H8W"
      },
      "outputs": [],
      "source": [
        "# your answer here\n"
      ]
    },
    {
      "cell_type": "markdown",
      "metadata": {
        "id": "ETVvR56r1H8W"
      },
      "source": [
        "#### What can you say about Minute Very Active and Steps? Write a comment below"
      ]
    },
    {
      "cell_type": "code",
      "execution_count": null,
      "metadata": {
        "id": "V4Dzcczy1H8X"
      },
      "outputs": [],
      "source": [
        "# your answer here\n"
      ]
    },
    {
      "cell_type": "markdown",
      "metadata": {
        "id": "JfV7iVbK1H8X"
      },
      "source": [
        "#### We also suspect that there must be a linear relationship between the Minutes Sedentary and the Steps. Compute the correlation between these variables."
      ]
    },
    {
      "cell_type": "code",
      "execution_count": null,
      "metadata": {
        "id": "ntFKLKUO1H8X"
      },
      "outputs": [],
      "source": [
        "# your answer here\n"
      ]
    },
    {
      "cell_type": "markdown",
      "metadata": {
        "id": "4ypPJ2zm1H8X"
      },
      "source": [
        "#### Use matplotlib to visually plot Minutes Sedentary vs Steps. Based on the results of the computed correlation and the plot. What can you say about these 2 variables?"
      ]
    },
    {
      "cell_type": "code",
      "execution_count": null,
      "metadata": {
        "id": "X3ac7yVQ1H8X"
      },
      "outputs": [],
      "source": [
        "# your answer here\n"
      ]
    },
    {
      "cell_type": "markdown",
      "metadata": {
        "id": "YOCPiS-i1H8X"
      },
      "source": [
        "#### We also suspect that there must be a linear relationship between the MinutesOfSleep and the Steps. Compute the correlation between these variables."
      ]
    },
    {
      "cell_type": "code",
      "execution_count": null,
      "metadata": {
        "id": "kS5gHU8s1H8X"
      },
      "outputs": [],
      "source": [
        "# your answer here\n"
      ]
    },
    {
      "cell_type": "markdown",
      "metadata": {
        "id": "_V_jLYyo1H8X"
      },
      "source": [
        "#### Use matplotlib to visually plot MinutesOfSleep vs Steps. Based on the results of the computed correlation and the plot. What can you say about these 2 variables?"
      ]
    },
    {
      "cell_type": "code",
      "execution_count": null,
      "metadata": {
        "id": "fJQTyHXs1H8Y"
      },
      "outputs": [],
      "source": [
        "# your answer here\n"
      ]
    },
    {
      "cell_type": "markdown",
      "metadata": {
        "id": "QUm42RjP1H8Y"
      },
      "source": [
        "#### Select a subset of your dataset with the columns below and compute the correlation matrix. Save the results in the variable `cor_fit`\n",
        "column= ['Calorie burned', 'Steps','Floors','Minutes Sedentary','Minutes Very Active', 'MinutesOfSleep']"
      ]
    },
    {
      "cell_type": "code",
      "execution_count": null,
      "metadata": {
        "id": "Dx434T1g1H8Y"
      },
      "outputs": [],
      "source": [
        "# your answer here\n"
      ]
    },
    {
      "cell_type": "markdown",
      "metadata": {
        "id": "hSKXlL0v1H8Y"
      },
      "source": [
        "#### Based on the result of the correlation matrix. What are the highly correlated features with the variable Steps?\n",
        "*Hint: From the results above select the variable Steps and order your results in descending order (use Pandas sort_values function)*"
      ]
    },
    {
      "cell_type": "code",
      "execution_count": null,
      "metadata": {
        "id": "Q6VCEVu21H8Y"
      },
      "outputs": [],
      "source": [
        "# your answer here\n"
      ]
    },
    {
      "cell_type": "markdown",
      "metadata": {
        "id": "DnP8a6nT1H8Y"
      },
      "source": [
        "# Challenge 3"
      ]
    },
    {
      "cell_type": "markdown",
      "metadata": {
        "id": "sdUxYlAT1H8Y"
      },
      "source": [
        "#### Open the `Time_Grades.csv` file and name your dataset `time_grades`."
      ]
    },
    {
      "cell_type": "code",
      "execution_count": null,
      "metadata": {
        "id": "WDBL3ucE1H8Y"
      },
      "outputs": [],
      "source": [
        "# your answer here\n"
      ]
    },
    {
      "cell_type": "markdown",
      "metadata": {
        "id": "G6NFkx7y1H8Z"
      },
      "source": [
        "#### Show visually the frequency distribution of the time_grades dataset."
      ]
    },
    {
      "cell_type": "code",
      "execution_count": null,
      "metadata": {
        "id": "Zp2MPnAr1H8Z"
      },
      "outputs": [],
      "source": [
        "# your answer here\n"
      ]
    },
    {
      "cell_type": "markdown",
      "metadata": {
        "id": "u93VUzN_1H8Z"
      },
      "source": [
        "#### Is there a correlation between study time and Grade? Use both Pearson and Spearman correlation and comment your results."
      ]
    },
    {
      "cell_type": "code",
      "execution_count": null,
      "metadata": {
        "id": "DDdtifL41H8Z"
      },
      "outputs": [],
      "source": [
        "# your answer here\n"
      ]
    },
    {
      "cell_type": "markdown",
      "metadata": {
        "id": "QksLyNOC1H8Z"
      },
      "source": [
        "#### Use matplotlib to visually plot Study time vs Grade. Based on the results of the computed correlation and the plot. What can you say about these 2 variables?"
      ]
    },
    {
      "cell_type": "code",
      "execution_count": null,
      "metadata": {
        "id": "8DeSdK7l1H8Z"
      },
      "outputs": [],
      "source": [
        "# your answer here\n"
      ]
    },
    {
      "cell_type": "markdown",
      "metadata": {
        "id": "kejIT6AB1H8Z"
      },
      "source": [
        "#### Could you explain the difference between Pearson and Spearman correlation? (see References in README.md) "
      ]
    },
    {
      "cell_type": "code",
      "execution_count": null,
      "metadata": {
        "id": "PZxvMuC21H8Z"
      },
      "outputs": [],
      "source": [
        "# your answer here\n"
      ]
    }
  ],
  "metadata": {
    "anaconda-cloud": {},
    "kernelspec": {
      "display_name": "Python 3",
      "language": "python",
      "name": "python3"
    },
    "language_info": {
      "codemirror_mode": {
        "name": "ipython",
        "version": 3
      },
      "file_extension": ".py",
      "mimetype": "text/x-python",
      "name": "python",
      "nbconvert_exporter": "python",
      "pygments_lexer": "ipython3",
      "version": "3.7.3"
    },
    "colab": {
      "name": "main.ipynb",
      "provenance": []
    }
  },
  "nbformat": 4,
  "nbformat_minor": 0
}